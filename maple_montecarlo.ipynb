{
 "cells": [
  {
   "cell_type": "code",
   "execution_count": 2,
   "metadata": {},
   "outputs": [],
   "source": [
    "import pandas as pd\n",
    "\n",
    "date = 20\n",
    "p = [.55, .3, .15]\n",
    "red_extreme = [0, 5, 10]\n",
    "red_corejem = [0, 10, 20]\n",
    "red_blackrebirth = [0, 3, 8]\n",
    "red_medalhonor = [0, 6, 15]\n",
    "red_simbol = [0, 10, 20]\n",
    "\n",
    "yellow = [3, 6, 2, 4, 6]\n",
    "data = {\n",
    "    '익성비' : red_extreme\n",
    "    ,'코젬' : red_corejem\n",
    "    ,'검환불' : red_blackrebirth\n",
    "    ,'명예훈장' : red_medalhonor\n",
    "    ,'어센틱심볼' : red_simbol\n",
    "    ,'p' : p\n",
    "}\n",
    "df = pd.DataFrame(data)"
   ]
  },
  {
   "cell_type": "code",
   "execution_count": 13,
   "metadata": {},
   "outputs": [],
   "source": [
    "import random\n",
    "\n",
    "n = 100000\n",
    "\n",
    "yellow = [3, 6, 2, 4, 6]\n",
    "yellow = [x*20 for x in yellow]\n",
    "\n",
    "\n",
    "def montecarlo(red, yellow, n, threshold):\n",
    "    cols = red.columns[:-1]\n",
    "    print('***빨간 단풍잎 선택이 노란 단풍잎 선택보다 높을 확률***')\n",
    "    p_dict = {}\n",
    "    for idx, col in enumerate(cols):\n",
    "        higher_count = 0\n",
    "        for _ in range(n):\n",
    "            simulate = sum(random.choices(red[col], red['p'], k=20))\n",
    "            if simulate > yellow[idx]:\n",
    "                higher_count += 1\n",
    "        p = higher_count / n\n",
    "        p_dict[col] = p\n",
    "        print(f'{col} : {round(p*100)}%')\n",
    "\n",
    "    print('***빨간 단풍잎 선택할 것***')\n",
    "    for key, value in p_dict.items():\n",
    "        if value > threshold:\n",
    "           print(f'{key}') \n",
    "    return p_dict"
   ]
  },
  {
   "cell_type": "code",
   "execution_count": 14,
   "metadata": {},
   "outputs": [
    {
     "name": "stdout",
     "output_type": "stream",
     "text": [
      "***빨간 단풍잎 선택이 노란 단풍잎 선택보다 높을 확률***\n",
      "익성비 : 43%\n",
      "코젬 : 43%\n",
      "검환불 : 52%\n",
      "명예훈장 : 51%\n",
      "어센틱심볼 : 43%\n",
      "***빨간 단풍잎 선택할 것***\n",
      "검환불\n",
      "명예훈장\n"
     ]
    },
    {
     "data": {
      "text/plain": [
       "{'익성비': 0.42674, '코젬': 0.42965, '검환불': 0.525, '명예훈장': 0.51063, '어센틱심볼': 0.4268}"
      ]
     },
     "execution_count": 14,
     "metadata": {},
     "output_type": "execute_result"
    }
   ],
   "source": [
    "threshold = 0.5\n",
    "montecarlo(df, yellow, n, threshold)"
   ]
  },
  {
   "cell_type": "markdown",
   "metadata": {},
   "source": [
    "### 결론\n",
    "\t50%보다 높은 확률을 임계치로 선택할 때,\n",
    "\t검환불, 명예 훈장은 빨간색을 선택\n",
    "\t나머지는 노란색 선택"
   ]
  }
 ],
 "metadata": {
  "kernelspec": {
   "display_name": "lee",
   "language": "python",
   "name": "python3"
  },
  "language_info": {
   "codemirror_mode": {
    "name": "ipython",
    "version": 3
   },
   "file_extension": ".py",
   "mimetype": "text/x-python",
   "name": "python",
   "nbconvert_exporter": "python",
   "pygments_lexer": "ipython3",
   "version": "3.11.4"
  },
  "orig_nbformat": 4
 },
 "nbformat": 4,
 "nbformat_minor": 2
}
